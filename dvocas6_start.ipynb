{
 "cells": [
  {
   "metadata": {},
   "cell_type": "markdown",
   "source": "# K Nearest Neighbours (KNN)",
   "id": "9eb2e9d5f34cd7b0"
  },
  {
   "metadata": {
    "collapsed": true
   },
   "cell_type": "code",
   "outputs": [],
   "execution_count": null,
   "source": "# Import potrebnih biblioteka\n",
   "id": "initial_id"
  },
  {
   "metadata": {},
   "cell_type": "markdown",
   "source": "## Učitavanje podataka",
   "id": "f504a6c5184a5ba8"
  },
  {
   "metadata": {},
   "cell_type": "code",
   "outputs": [],
   "execution_count": null,
   "source": "# Učitati podatke iz foldera data\n",
   "id": "34d59805bf01ff61"
  },
  {
   "metadata": {},
   "cell_type": "markdown",
   "source": "## Pregled podataka\n",
   "id": "787611583a34e2ee"
  },
  {
   "metadata": {},
   "cell_type": "code",
   "outputs": [],
   "execution_count": null,
   "source": "# Prikaži prvih nekoliko redova\n",
   "id": "49aab9636047a29f"
  },
  {
   "metadata": {},
   "cell_type": "markdown",
   "source": "## Kreiranje izlazne varijable",
   "id": "29695ab5ca3ebe47"
  },
  {
   "metadata": {},
   "cell_type": "code",
   "outputs": [],
   "execution_count": null,
   "source": "# Izračunaj treći kvartil za varijablu 'Sales'\n",
   "id": "6faab1dab75ea401"
  },
  {
   "metadata": {},
   "cell_type": "code",
   "outputs": [],
   "execution_count": null,
   "source": "# Kreiraj izlaznu varijablu 'HighSales' na osnovu vrednosti varijable 'Sales'\n",
   "id": "f28ca2a6d4d16d41"
  },
  {
   "metadata": {},
   "cell_type": "code",
   "outputs": [],
   "execution_count": null,
   "source": "# Ukloni varijablu 'Sales' jer je korišćena za kreiranje izlazne varijable\n",
   "id": "ac04cd4d2c665824"
  },
  {
   "metadata": {},
   "cell_type": "markdown",
   "source": "## Standardizacija numeričkih varijabli",
   "id": "da139cc38923568"
  },
  {
   "metadata": {},
   "cell_type": "code",
   "outputs": [],
   "execution_count": null,
   "source": "# Prikaži deskriptivnu statistiku\n",
   "id": "94bb96946388bf61"
  },
  {
   "metadata": {},
   "cell_type": "code",
   "outputs": [],
   "execution_count": null,
   "source": "# Prikaži boxplot za varijablu CompPrice\n",
   "id": "258c04910430b5a9"
  },
  {
   "metadata": {},
   "cell_type": "code",
   "outputs": [],
   "execution_count": null,
   "source": "# Izaberi numeričke varijable\n",
   "id": "68c32545622ccd1d"
  },
  {
   "metadata": {},
   "cell_type": "code",
   "outputs": [],
   "execution_count": null,
   "source": "# Izračunaj broj autlajera za svaku numeričku varijablu\n",
   "id": "a6e5d604e1a71f55"
  },
  {
   "metadata": {},
   "cell_type": "code",
   "outputs": [],
   "execution_count": null,
   "source": "# Primeni Shapiro-Wilk test na svaku numeričku varijablu\n",
   "id": "8c07cd92671d3117"
  },
  {
   "metadata": {},
   "cell_type": "code",
   "outputs": [],
   "execution_count": null,
   "source": [
    "# Izaberi numeričke varijable koje nemaju normalnu raspodelu\n",
    "\n",
    "# Izaberi numeričke varijable koje imaju normalnu raspodelu\n",
    "\n",
    "# Napravi novi DataFrame za standardizovane vrednosti\n",
    "\n",
    "# Standardizacija varijabli koje nemaju normalnu raspodelu\n",
    "\n",
    "# Standardizacija varijabli koje imaju normalnu raspodelu\n"
   ],
   "id": "ba411c6799863855"
  },
  {
   "metadata": {},
   "cell_type": "code",
   "outputs": [],
   "execution_count": null,
   "source": "# Prikaži deskriptivnu statistiku\n",
   "id": "26f3c7be553cfdb9"
  },
  {
   "metadata": {},
   "cell_type": "markdown",
   "source": "## Transformacija binarnih i kategorijskih varijabli u numeričke",
   "id": "fe10686e375c3404"
  },
  {
   "metadata": {},
   "cell_type": "code",
   "outputs": [],
   "execution_count": null,
   "source": [
    "# Transformiši varijablu Urban u numeričku: \"No\" = 0, \"Yes\" = 1\n",
    "\n",
    "# Transformiši varijablu US u numeričku: \"No\" = 0, \"Yes\" = 1\n",
    "\n",
    "# Dodeli redosled vrednostima varijable ShelveLoc: \"Bad\" < \"Medium\" < \"Good\"\n",
    "# i konvertuj ih u numeričke vrednosti\n",
    "\n",
    "\n",
    "# Dodaj izlaznu varijablu HighSales u numeričkom formatu: \"No\" = 0, \"Yes\" = 1\n",
    "\n",
    "# Prikaži strukturu transformisanog skupa podataka\n",
    "\n",
    "# Prikaži deskriptivnu statistiku\n"
   ],
   "id": "9da59ef1fb7ccd89"
  },
  {
   "metadata": {},
   "cell_type": "markdown",
   "source": "## Podela na trening i test skupove",
   "id": "a5a3acceb6e1b61a"
  },
  {
   "metadata": {},
   "cell_type": "code",
   "outputs": [],
   "execution_count": null,
   "source": "# Podeli podatke na trening (80%) i test (20%) skup\n",
   "id": "5468a70bd29c12e4"
  },
  {
   "metadata": {},
   "cell_type": "markdown",
   "source": "## Kreiranje KNN klasifikatora",
   "id": "f259a1763ed7659f"
  },
  {
   "metadata": {},
   "cell_type": "code",
   "outputs": [],
   "execution_count": null,
   "source": "# Inicijalizuj KNN klasifikator sa k=5\n",
   "id": "874c8e7f54fd9ac0"
  },
  {
   "metadata": {},
   "cell_type": "markdown",
   "source": "## Kreiranje predikcija i prikaz rezultata",
   "id": "14c7a5448e808aca"
  },
  {
   "metadata": {},
   "cell_type": "code",
   "outputs": [],
   "execution_count": null,
   "source": "# Napravi predikcije za test skup pomoću klasifikatora knn1\n",
   "id": "a5548e0bd84c8bfe"
  },
  {
   "metadata": {},
   "cell_type": "code",
   "outputs": [],
   "execution_count": null,
   "source": [
    "# Kreiraj matricu konfuzije za predikcije klasifikatora knn1\n",
    "\n",
    "# Prikaži matricu\n",
    "\n",
    "# Prikaži matricu pomoću ConfusionMatrixDisplay\n"
   ],
   "id": "e9208e63ee5de0a7"
  },
  {
   "metadata": {},
   "cell_type": "code",
   "outputs": [],
   "execution_count": null,
   "source": "# Funkcija za izračunavanje evaluacionih metrika\n",
   "id": "52dcfeceaf6320e2"
  },
  {
   "metadata": {},
   "cell_type": "code",
   "outputs": [],
   "execution_count": null,
   "source": "# Izračunaj evaluacione metrike za predikcije klasifikatora knn1\n",
   "id": "a2308e51fc4d9756"
  },
  {
   "metadata": {},
   "cell_type": "markdown",
   "source": "## Pronalaženje optimalne vrednosti za `k` pomoću 10-struke cross-validacije",
   "id": "fb8a2934779e0b10"
  },
  {
   "metadata": {},
   "cell_type": "code",
   "outputs": [],
   "execution_count": null,
   "source": [
    "# Inicijalizuj KNN klasifikator\n",
    "\n",
    "# Definiši opseg vrednosti za broj suseda k (neparni brojevi od 3 do 25)\n",
    "\n",
    "# Postavi GridSearch sa 10-strukom stratifikovanom kros-validacijom i metrikom tačnosti\n",
    "\n",
    "# Pokreni pretragu hiperparametra (k) na trening skupu\n",
    "\n",
    "# Prikaži optimalnu vrednost za k\n"
   ],
   "id": "78655f7c55d179f"
  },
  {
   "metadata": {},
   "cell_type": "code",
   "outputs": [],
   "execution_count": null,
   "source": "# Kreiraj novi KNN klasifikator sa optimalnim brojem suseda\n",
   "id": "aaf09fab7e71ebd4"
  },
  {
   "metadata": {},
   "cell_type": "code",
   "outputs": [],
   "execution_count": null,
   "source": "# Kreiraj predikcije za test skup pomoću klasifikatora knn2\n",
   "id": "749addb3b1211"
  },
  {
   "metadata": {},
   "cell_type": "code",
   "outputs": [],
   "execution_count": null,
   "source": [
    "# Kreiraj matricu konfuzije za predikcije klasifikatora knn2\n",
    "\n",
    "# Prikaži matricu pomoću ConfusionMatrixDisplay\n"
   ],
   "id": "2440beff090aeb2a"
  },
  {
   "metadata": {},
   "cell_type": "code",
   "outputs": [],
   "execution_count": null,
   "source": "# Izračunaj evaluacione metrike za predikcije klasifikatora knn2\n",
   "id": "f41d490d02be14e4"
  },
  {
   "metadata": {},
   "cell_type": "code",
   "outputs": [],
   "execution_count": null,
   "source": "# Uporedi evaluacione metrike za predikcije klasifikatora knn1 i knn2\n",
   "id": "417ee3193c78d7e"
  }
 ],
 "metadata": {
  "kernelspec": {
   "display_name": "Python 3",
   "language": "python",
   "name": "python3"
  },
  "language_info": {
   "codemirror_mode": {
    "name": "ipython",
    "version": 2
   },
   "file_extension": ".py",
   "mimetype": "text/x-python",
   "name": "python",
   "nbconvert_exporter": "python",
   "pygments_lexer": "ipython2",
   "version": "2.7.6"
  }
 },
 "nbformat": 4,
 "nbformat_minor": 5
}
